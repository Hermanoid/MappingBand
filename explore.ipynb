{
 "cells": [
  {
   "cell_type": "code",
   "execution_count": 3,
   "metadata": {},
   "outputs": [
    {
     "name": "stdout",
     "output_type": "stream",
     "text": [
      "Defaulting to user installation because normal site-packages is not writeable\n",
      "Requirement already satisfied: roboflow in /home/lniewohner/.local/lib/python3.10/site-packages (1.1.49)\n",
      "Requirement already satisfied: fiftyone in /home/lniewohner/.local/lib/python3.10/site-packages (1.0.2)\n",
      "\u001b[31mERROR: Could not find a version that satisfies the requirement urllib (from versions: none)\u001b[0m\u001b[31m\n",
      "\u001b[0m\u001b[31mERROR: No matching distribution found for urllib\u001b[0m\u001b[31m\n",
      "\u001b[0m"
     ]
    }
   ],
   "source": [
    "\n",
    "# REMOVE BEFORE SUBMITTING (replace with trained model... what for test?)\n",
    "!pip install roboflow fiftyone\n"
   ]
  },
  {
   "cell_type": "code",
   "execution_count": 86,
   "metadata": {},
   "outputs": [
    {
     "name": "stdout",
     "output_type": "stream",
     "text": [
      "loading Roboflow workspace...\n",
      "loading Roboflow project...\n"
     ]
    },
    {
     "name": "stderr",
     "output_type": "stream",
     "text": [
      "Downloading Dataset Version Zip in data/drill to coco:: 100%|██████████| 4751/4751 [00:00<00:00, 9763.63it/s] "
     ]
    },
    {
     "name": "stdout",
     "output_type": "stream",
     "text": [
      "\n"
     ]
    },
    {
     "name": "stderr",
     "output_type": "stream",
     "text": [
      "\n",
      "Extracting Dataset Version Zip to data/drill in coco:: 100%|██████████| 64/64 [00:00<00:00, 2879.90it/s]\n"
     ]
    }
   ],
   "source": [
    "from roboflow import Roboflow\n",
    "# load API key from .env.local\n",
    "import os\n",
    "from dotenv import load_dotenv\n",
    "load_dotenv()\n",
    "rf = Roboflow(api_key=os.getenv(\"ROBOFLOW_API_KEY\"))\n",
    "project = rf.workspace(\"lucasland\").project(\"marching-band-drill-analysis-mheaa\")\n",
    "version = project.version(1)\n",
    "dataset = version.download(\"coco\", location=\"data/drill\")"
   ]
  },
  {
   "cell_type": "code",
   "execution_count": 87,
   "metadata": {},
   "outputs": [
    {
     "name": "stdout",
     "output_type": "stream",
     "text": [
      " 100% |███████████████████| 39/39 [2.5s elapsed, 0s remaining, 15.6 samples/s]      \n"
     ]
    },
    {
     "data": {
      "text/html": [
       "\n",
       "        <iframe\n",
       "            width=\"100%\"\n",
       "            height=\"800\"\n",
       "            src=\"http://localhost:5151/?notebook=True&subscription=5f8fda45-8e93-4b76-ad87-6d8697dd4e6d\"\n",
       "            frameborder=\"0\"\n",
       "            allowfullscreen\n",
       "            \n",
       "        ></iframe>\n",
       "        "
      ],
      "text/plain": [
       "<IPython.lib.display.IFrame at 0x7f394092bd60>"
      ]
     },
     "metadata": {},
     "output_type": "display_data"
    }
   ],
   "source": [
    "# Visualize roboflow dataset interactively\n",
    "import fiftyone as fo\n",
    "import fiftyone.types\n",
    "from fiftyone import ViewField as F\n",
    "import fiftyone.zoo as foz\n",
    "\n",
    "# Load the dataset\n",
    "dataset = fo.Dataset.from_dir(\n",
    "    dataset_dir=\"data/drill\",\n",
    "    dataset_type=fiftyone.types.COCODetectionDataset,\n",
    "    data_path=\"train\",\n",
    "    labels_path=\"train/_annotations.coco.json\",\n",
    ")\n",
    "\n",
    "# Launch the App\n",
    "session = fo.launch_app(dataset)\n",
    "\n",
    "# dataset.head()[0]"
   ]
  },
  {
   "cell_type": "code",
   "execution_count": null,
   "metadata": {},
   "outputs": [],
   "source": []
  }
 ],
 "metadata": {
  "kernelspec": {
   "display_name": "Python 3",
   "language": "python",
   "name": "python3"
  },
  "language_info": {
   "codemirror_mode": {
    "name": "ipython",
    "version": 3
   },
   "file_extension": ".py",
   "mimetype": "text/x-python",
   "name": "python",
   "nbconvert_exporter": "python",
   "pygments_lexer": "ipython3",
   "version": "3.10.12"
  }
 },
 "nbformat": 4,
 "nbformat_minor": 2
}
