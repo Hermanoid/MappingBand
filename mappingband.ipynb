{
 "cells": [
  {
   "cell_type": "code",
   "execution_count": null,
   "metadata": {},
   "outputs": [
    {
     "data": {
      "text/plain": [
       "TensorShape([1, 21, 21504])"
      ]
     },
     "execution_count": 8,
     "metadata": {},
     "output_type": "execute_result"
    }
   ],
   "source": [
    "# choose an input image from data/drill_aug/test/images/ and run the model\n",
    "import cv2\n",
    "import numpy as np\n",
    "from glob import glob\n",
    "def yoloPostAndPlot(output, resized_image, conf_threshold=0.5, nms_threshold=0.4):\n",
    "    output = output[0]\n",
    "    output = output.T\n",
    "    imgage_height, image_width = resized_image.shape[:2]\n",
    "\n",
    "    boxes_xywh = output[..., :4] \n",
    "    scores = np.max(output[..., 4:], axis=1)\n",
    "    classes = np.argmax(output[..., 4:], axis=1)\n",
    "\n",
    "    indices = cv2.dnn.NMSBoxes(boxes_xywh, scores, conf_threshold, nms_threshold)\n",
    "\n",
    "    threshold = 0.25\n",
    "\n",
    "    for i in indices:\n",
    "        if scores[i] >= threshold:\n",
    "            x_center, y_center, width, height = boxes_xywh[i]\n",
    "            \n",
    "            x1 = int((x_center - width / 2) * image_width)\n",
    "            y1 = int((y_center - height / 2) * image_height)\n",
    "            x2 = int((x_center + width / 2) * image_width)\n",
    "            y2 = int((y_center + height / 2) * image_height)\n",
    "\n",
    "            image_with_box = cv2.rectangle(resized_image, (x1,y1), (x2,y2), [0,0,255], 1)\n",
    "            cv2.putText(image_with_box, f'{CLASSES[classes[i]]}:{scores[i]:.2f}',(x1, y1-10), cv2.FONT_HERSHEY_SIMPLEX, 0.9, (36,255,\n",
    "\n",
    "\n",
    "in_image = np.random.choice(glob('data/drill_aug/test/images/*.jpg'))\n",
    "im_image = cv2.imread(in_image)\n",
    "cv2.imshow('image', im_image)\n",
    "\n",
    "# Load the saved_model in tensorflow\n",
    "import tensorflow as tf\n",
    "model = tf.saved_model.load('models/saved_model')\n",
    "\n",
    "# Preprocess the image + convert to float tensor\n",
    "im_image = cv2.resize(im_image, (1024, 1024)).astype(np.float32)\n",
    "im_image = im_image / 255.0\n",
    "im_image = np.expand_dims(im_image, axis=0)\n",
    "\n",
    "\n",
    "# Run the model\n",
    "out = model(im_image)\n",
    "\n",
    "# Postprocess the output\n",
    "# out = out.numpy()\n",
    "# boxes, confidences, class_ids = yoloPostProcess(out, im_image.shape)\n",
    "\n",
    "# Draw the boxes\n",
    "# for box, conf, class_id in zip(boxes, confidences, class_ids):\n",
    "#     left, top, width, height = box\n",
    "#     cv2.rectangle(im_image, (left, top), (left+width, top+height), (0, 255, 0), 2)\n",
    "#     cv2.putText(im_image, str(conf), (left, top), cv2.FONT_HERSHEY_SIMPLEX, 1, (0, 255, 0), 2)\n",
    "\n",
    "out.shape"
   ]
  }
 ],
 "metadata": {
  "kernelspec": {
   "display_name": "cv",
   "language": "python",
   "name": "python3"
  },
  "language_info": {
   "codemirror_mode": {
    "name": "ipython",
    "version": 3
   },
   "file_extension": ".py",
   "mimetype": "text/x-python",
   "name": "python",
   "nbconvert_exporter": "python",
   "pygments_lexer": "ipython3",
   "version": "3.9.19"
  }
 },
 "nbformat": 4,
 "nbformat_minor": 2
}
