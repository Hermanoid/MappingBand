{
 "cells": [
  {
   "cell_type": "code",
   "execution_count": 7,
   "metadata": {},
   "outputs": [
    {
     "name": "stdout",
     "output_type": "stream",
     "text": [
      "loading Roboflow workspace...\n",
      "loading Roboflow project...\n"
     ]
    }
   ],
   "source": [
    "\n",
    "from roboflow import Roboflow\n",
    "rf = Roboflow(api_key=\"kZm5q2NLtrNJ0nXRqdBC\")\n",
    "project = rf.workspace(\"lucasland\").project(\"marching-band-drill-analysis-mheaa\")\n",
    "version = project.version(4)\n",
    "dataset_rf = version.download(\"yolov8\", location=\"data/drill_aug\")\n"
   ]
  },
  {
   "cell_type": "code",
   "execution_count": null,
   "metadata": {},
   "outputs": [
    {
     "name": "stdout",
     "output_type": "stream",
     "text": [
      "model loaded\n",
      "Ultralytics 8.3.41 🚀 Python-3.10.12 torch-2.5.1+cu124 CPU (AMD Ryzen 9 6900HS with Radeon Graphics)\n",
      "\u001b[34m\u001b[1mengine/trainer: \u001b[0mtask=detect, mode=train, model=models/yolov8n.pt, data=/home/lniewohner/CSCI507/MappingBand/data/drill_aug/data.yaml, epochs=3, time=None, patience=100, batch=16, imgsz=2048, save=True, save_period=-1, cache=False, device=None, workers=8, project=None, name=train12, exist_ok=False, pretrained=models/yolov8n.pt, optimizer=auto, verbose=True, seed=0, deterministic=True, single_cls=False, rect=False, cos_lr=False, close_mosaic=10, resume=False, amp=True, fraction=1.0, profile=False, freeze=5, multi_scale=False, overlap_mask=True, mask_ratio=4, dropout=0.0, val=True, split=val, save_json=False, save_hybrid=False, conf=None, iou=0.7, max_det=300, half=False, dnn=False, plots=True, source=None, vid_stride=1, stream_buffer=False, visualize=False, augment=False, agnostic_nms=False, classes=None, retina_masks=False, embed=None, show=False, save_frames=False, save_txt=False, save_conf=False, save_crop=False, show_labels=True, show_conf=True, show_boxes=True, line_width=None, format=torchscript, keras=False, optimize=False, int8=False, dynamic=False, simplify=True, opset=None, workspace=None, nms=False, lr0=0.01, lrf=0.01, momentum=0.937, weight_decay=0.0005, warmup_epochs=3.0, warmup_momentum=0.8, warmup_bias_lr=0.1, box=7.5, cls=0.5, dfl=1.5, pose=12.0, kobj=1.0, nbs=64, hsv_h=0.015, hsv_s=0.7, hsv_v=0.4, degrees=0.0, translate=0.1, scale=0.5, shear=0.0, perspective=0.0, flipud=0.0, fliplr=0.5, bgr=0.0, mosaic=1.0, mixup=0.0, copy_paste=0.0, copy_paste_mode=flip, auto_augment=randaugment, erasing=0.4, crop_fraction=1.0, cfg=None, tracker=botsort.yaml, save_dir=runs/detect/train12\n"
     ]
    }
   ],
   "source": [
    "from ultralytics import YOLO\n",
    "from PIL import Image\n",
    "import cv2\n",
    "import numpy as np\n",
    "import requests\n",
    "from io import BytesIO\n",
    "\n",
    "model = YOLO(\"models/yolov8n.pt\", device=\"gpu\") #loading yolov8 face model\n",
    "dataset = dataset_rf.location + \"/data.yaml\"\n",
    "folder_path = 'train' #specify image folder path\n",
    "# img_path = 'test_images/3251_Out.jpg' #if wanting to only predict single image, #replace folder_path with img_path in predict\n",
    "\n",
    "print('model loaded')\n",
    "# model.train(data = dataset, epochs = 3, pretrained = True, imgsz=960) #training model\n",
    "model.train(data = dataset, epochs = 3, pretrained = \"models/yolov8n.pt\", freeze = 5, imgsz=1024)\n",
    "\n",
    "model.val() #evaluating train data\n",
    "print('val complete')\n",
    "\n",
    "#add this to predict when predicting on our set imgsize = 2160\n",
    "# results = model.predict(source=folder_path, save=True, conf = 0.33, line_width = 1, imgsz=2160)\n",
    "# yolo task=detect mode=train model=models/yolov8n.pt pretrained=models/yolov8n.pt freeze=12 data=data/drill_aug/data.yaml epochs=3 imgsz=1024 device=gpu"
   ]
  },
  {
   "cell_type": "code",
   "execution_count": null,
   "metadata": {},
   "outputs": [],
   "source": []
  },
  {
   "cell_type": "code",
   "execution_count": 22,
   "metadata": {},
   "outputs": [
    {
     "ename": "NameError",
     "evalue": "name 'dataset_rf' is not defined",
     "output_type": "error",
     "traceback": [
      "\u001b[0;31m---------------------------------------------------------------------------\u001b[0m",
      "\u001b[0;31mNameError\u001b[0m                                 Traceback (most recent call last)",
      "Cell \u001b[0;32mIn[22], line 8\u001b[0m\n\u001b[1;32m      5\u001b[0m \u001b[38;5;28;01mimport\u001b[39;00m \u001b[38;5;21;01mos\u001b[39;00m\n\u001b[1;32m      6\u001b[0m model \u001b[38;5;241m=\u001b[39m YOLO(\u001b[38;5;124m\"\u001b[39m\u001b[38;5;124mmodels/homie_locator_v1.pt\u001b[39m\u001b[38;5;124m\"\u001b[39m) \u001b[38;5;66;03m#loading yolov8 face model\u001b[39;00m\n\u001b[0;32m----> 8\u001b[0m test_folder_path \u001b[38;5;241m=\u001b[39m \u001b[43mdataset_rf\u001b[49m\u001b[38;5;241m.\u001b[39mlocation \u001b[38;5;241m+\u001b[39m \u001b[38;5;124m'\u001b[39m\u001b[38;5;124m/test/images\u001b[39m\u001b[38;5;124m'\u001b[39m \u001b[38;5;66;03m# specify test image folder path\u001b[39;00m\n\u001b[1;32m     10\u001b[0m images \u001b[38;5;241m=\u001b[39m os\u001b[38;5;241m.\u001b[39mlistdir(test_folder_path)\n\u001b[1;32m     11\u001b[0m \u001b[38;5;66;03m# Do some preprocessing\u001b[39;00m\n",
      "\u001b[0;31mNameError\u001b[0m: name 'dataset_rf' is not defined"
     ]
    }
   ],
   "source": [
    "from ultralytics import YOLO\n",
    "from PIL import Image\n",
    "import cv2\n",
    "import numpy as np\n",
    "import os\n",
    "model = YOLO(\"models/homie_locator_v1.pt\") #loading yolov8 face model\n",
    "\n",
    "test_folder_path = dataset_rf.location + '/test/images' # specify test image folder path\n",
    "\n",
    "images = os.listdir(test_folder_path)\n",
    "# Do some preprocessing\n",
    "images = [cv2.imread(os.path.join(test_folder_path, img)) for img in images]\n",
    "images = [cv2.cvtColor(img, cv2.COLOR_BGR2RGB) for img in images]\n",
    "images = [cv2.resize(img, (1024, 1024)) for img in images]\n",
    "\n",
    "# Evaluate the model on the test data\n",
    "results = model.predict(source=images, save=True, conf=0.25, line_width=1, imgsz=1024, device=\"cuda\")\n",
    "\n",
    "# Display results\n",
    "for result in np.random.choice(results, 5, replace=False):\n",
    "    img = result.plot()\n",
    "    img = Image.fromarray(img)\n",
    "    img.show()"
   ]
  },
  {
   "cell_type": "code",
   "execution_count": 29,
   "metadata": {},
   "outputs": [
    {
     "data": {
      "text/plain": [
       "['__annotations__',\n",
       " '__builtins__',\n",
       " '__call__',\n",
       " '__class__',\n",
       " '__closure__',\n",
       " '__code__',\n",
       " '__defaults__',\n",
       " '__delattr__',\n",
       " '__dict__',\n",
       " '__dir__',\n",
       " '__doc__',\n",
       " '__eq__',\n",
       " '__format__',\n",
       " '__ge__',\n",
       " '__get__',\n",
       " '__getattribute__',\n",
       " '__getstate__',\n",
       " '__globals__',\n",
       " '__gt__',\n",
       " '__hash__',\n",
       " '__init__',\n",
       " '__init_subclass__',\n",
       " '__kwdefaults__',\n",
       " '__le__',\n",
       " '__lt__',\n",
       " '__module__',\n",
       " '__name__',\n",
       " '__ne__',\n",
       " '__new__',\n",
       " '__qualname__',\n",
       " '__reduce__',\n",
       " '__reduce_ex__',\n",
       " '__repr__',\n",
       " '__setattr__',\n",
       " '__sizeof__',\n",
       " '__str__',\n",
       " '__subclasshook__',\n",
       " '__type_params__']"
      ]
     },
     "execution_count": 29,
     "metadata": {},
     "output_type": "execute_result"
    }
   ],
   "source": [
    "# Convert to tensorflow SavedModel via ONNX\n",
    "# model.export(format=\"saved_model\", imgsz=1024) #exporting model to onnx format\n",
    "\n",
    "import onnx\n",
    "# import onnx2keras\n",
    "import onnx2tf\n",
    "import numpy as np\n",
    "# import tensorflow.keras as keras\n",
    "import tf_keras\n",
    "model = onnx.load(\"models/homie_locator_v1.onnx\") #loading onnx model\n",
    "# model.graph.input\n",
    "tf_model = onnx2tf\n",
    "dir(onnx2tf.convert\n",
    ")\n",
    "# keras.models.save_model(k_model, \"models/homie_locator_v1.h5\", overwrite=True, include_optimizer=True) #saving keras model"
   ]
  },
  {
   "cell_type": "code",
   "execution_count": null,
   "metadata": {},
   "outputs": [],
   "source": []
  }
 ],
 "metadata": {
  "kernelspec": {
   "display_name": "cv5",
   "language": "python",
   "name": "python3"
  },
  "language_info": {
   "codemirror_mode": {
    "name": "ipython",
    "version": 3
   },
   "file_extension": ".py",
   "mimetype": "text/x-python",
   "name": "python",
   "nbconvert_exporter": "python",
   "pygments_lexer": "ipython3",
   "version": "3.12.3"
  }
 },
 "nbformat": 4,
 "nbformat_minor": 2
}
